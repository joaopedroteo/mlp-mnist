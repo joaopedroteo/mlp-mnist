{
 "cells": [
  {
   "cell_type": "markdown",
   "metadata": {},
   "source": [
    "# Multilayer Perceptron MNIST"
   ]
  },
  {
   "cell_type": "markdown",
   "metadata": {},
   "source": [
    "## Imports"
   ]
  },
  {
   "cell_type": "code",
   "execution_count": 1,
   "metadata": {},
   "outputs": [],
   "source": [
    "%matplotlib inline\n",
    "\n",
    "import warnings\n",
    "import random\n",
    "import pprint\n",
    "\n",
    "import numpy as np\n",
    "import pandas as pd\n",
    "import seaborn as sn\n",
    "\n",
    "from sklearn.neural_network import MLPClassifier\n",
    "from sklearn.datasets import fetch_mldata\n",
    "from sklearn.model_selection import train_test_split\n",
    "from sklearn.datasets.base import get_data_home \n",
    "from sklearn.metrics import classification_report,confusion_matrix\n",
    "import matplotlib.pyplot as plt"
   ]
  },
  {
   "cell_type": "markdown",
   "metadata": {},
   "source": [
    "## Baixando e configurando o dataset"
   ]
  },
  {
   "cell_type": "code",
   "execution_count": 2,
   "metadata": {},
   "outputs": [
    {
     "name": "stdout",
     "output_type": "stream",
     "text": [
      "Baixando MNIST data\n",
      "Download concluído.\n",
      "Training dataset size: 56000\n",
      "Test dataset size: 56000\n"
     ]
    }
   ],
   "source": [
    "#Ignorando os warnings\n",
    "warnings.filterwarnings(\"ignore\", category=DeprecationWarning)\n",
    "print('Baixando MNIST data')\n",
    "mnist_dataset = fetch_mldata('MNIST original')\n",
    "print('Download concluído.')\n",
    "\n",
    "data = mnist_dataset.data\n",
    "target = mnist_dataset.target\n",
    "#mages = mnist_dataset.images\n",
    "\n",
    "tamanho_dataset_teste = 0.2\n",
    "\n",
    "data_train, data_test, target_train, target_test = train_test_split(data, target, test_size=tamanho_dataset_teste, random_state=42)\n",
    "\n",
    "print(f\"Training dataset size: {len(data_train)}\")\n",
    "print(f\"Test dataset size: {len(target_train)}\")\n"
   ]
  },
  {
   "cell_type": "markdown",
   "metadata": {},
   "source": [
    "Alguns números do dataset:"
   ]
  },
  {
   "cell_type": "code",
   "execution_count": 3,
   "metadata": {},
   "outputs": [
    {
     "data": {
      "image/png": "[encoded data removed]",
      "text/plain": [
       "<Figure size 432x288 with 10 Axes>"
      ]
     },
     "metadata": {
      "needs_background": "light"
     },
     "output_type": "display_data"
    }
   ],
   "source": [
    "fig, ax = plt.subplots(2,5)\n",
    "for i, ax in enumerate(ax.flatten()):\n",
    "    im_idx = np.argwhere(target == i)[0]\n",
    "    plottable_image = np.reshape(data[im_idx], (28, 28))\n",
    "    ax.imshow(plottable_image, cmap='gray_r')"
   ]
  },
  {
   "cell_type": "code",
   "execution_count": 4,
   "metadata": {},
   "outputs": [
    {
     "data": {
      "text/plain": [
       "<matplotlib.image.AxesImage at 0x7f06eb13cf28>"
      ]
     },
     "execution_count": 4,
     "metadata": {},
     "output_type": "execute_result"
    },
    {
     "data": {
      "image/png": "[encoded data removed]",
      "text/plain": [
       "<Figure size 432x288 with 1 Axes>"
      ]
     },
     "metadata": {
      "needs_background": "light"
     },
     "output_type": "display_data"
    }
   ],
   "source": [
    "fig, ax = plt.subplots(1)\n",
    "im_idx = 34567\n",
    "plottable_image = np.reshape(data[im_idx], (28, 28))\n",
    "ax.imshow(plottable_image, cmap='gray_r')"
   ]
  },
  {
   "cell_type": "code",
   "execution_count": 5,
   "metadata": {
    "scrolled": false
   },
   "outputs": [
    {
     "name": "stdout",
     "output_type": "stream",
     "text": [
      "\n",
      "\n",
      "000 000 000 000 000 000 000 000 000 000 000 000 000 000 000 000 000 000 000 000 000 000 000 000 000 000 000 000 \n",
      "\n",
      "000 000 000 000 000 000 000 000 000 000 000 000 000 000 000 000 000 000 000 000 000 000 000 000 000 000 000 000 \n",
      "\n",
      "000 000 000 000 000 000 000 000 000 000 000 000 000 000 000 000 000 000 000 000 000 000 000 000 000 000 000 000 \n",
      "\n",
      "000 000 000 000 000 000 000 000 000 000 000 000 000 000 000 000 000 000 000 000 000 000 000 000 000 000 000 000 \n",
      "\n",
      "000 000 000 000 000 000 000 000 000 000 000 000 000 000 000 000 000 000 000 000 000 000 000 000 000 000 000 000 \n",
      "\n",
      "000 000 000 000 000 000 000 000 000 000 000 000 000 000 000 000 000 000 000 000 000 000 000 000 000 000 000 000 \n",
      "\n",
      "000 000 000 000 000 000 000 000 000 000 000 000 000 000 000 000 000 000 000 000 000 000 000 000 000 000 000 000 \n",
      "\n",
      "000 000 000 000 000 000 000 000 000 000 000 000 000 000 000 000 000 000 000 000 000 000 000 000 000 000 000 000 \n",
      "\n",
      "000 000 000 000 000 000 000 000 000 000 000 000 000 000 003 124 221 013 000 000 018 019 066 154 093 000 000 000 \n",
      "\n",
      "000 000 000 000 000 000 000 000 000 000 000 000 000 070 208 254 248 157 200 200 251 230 203 203 117 000 000 000 \n",
      "\n",
      "000 000 000 000 000 000 000 000 000 000 000 004 081 244 253 223 169 169 163 096 049 012 000 000 000 000 000 000 \n",
      "\n",
      "000 000 000 000 000 000 000 000 000 000 038 185 254 254 106 000 000 000 000 000 000 000 000 000 000 000 000 000 \n",
      "\n",
      "000 000 000 000 000 000 000 000 000 006 208 254 254 254 233 226 152 073 002 000 000 000 000 000 000 000 000 000 \n",
      "\n",
      "000 000 000 000 000 000 000 000 000 006 107 165 143 143 143 143 178 254 138 000 000 000 000 000 000 000 000 000 \n",
      "\n",
      "000 000 000 000 000 000 000 000 000 000 000 000 000 000 000 000 005 175 200 000 000 000 000 000 000 000 000 000 \n",
      "\n",
      "000 000 000 000 000 000 000 000 000 000 000 000 000 000 000 000 021 219 189 000 000 000 000 000 000 000 000 000 \n",
      "\n",
      "000 000 000 000 000 098 118 064 012 000 000 000 000 000 000 000 192 254 071 000 000 000 000 000 000 000 000 000 \n",
      "\n",
      "000 000 000 000 000 224 254 254 246 239 155 097 097 098 170 212 237 098 004 000 000 000 000 000 000 000 000 000 \n",
      "\n",
      "000 000 000 000 000 099 213 254 254 254 254 254 254 254 230 135 053 000 000 000 000 000 000 000 000 000 000 000 \n",
      "\n",
      "000 000 000 000 000 000 005 026 110 160 092 092 092 070 011 000 000 000 000 000 000 000 000 000 000 000 000 000 \n",
      "\n",
      "000 000 000 000 000 000 000 000 000 000 000 000 000 000 000 000 000 000 000 000 000 000 000 000 000 000 000 000 \n",
      "\n",
      "000 000 000 000 000 000 000 000 000 000 000 000 000 000 000 000 000 000 000 000 000 000 000 000 000 000 000 000 \n",
      "\n",
      "000 000 000 000 000 000 000 000 000 000 000 000 000 000 000 000 000 000 000 000 000 000 000 000 000 000 000 000 \n",
      "\n",
      "000 000 000 000 000 000 000 000 000 000 000 000 000 000 000 000 000 000 000 000 000 000 000 000 000 000 000 000 \n",
      "\n",
      "000 000 000 000 000 000 000 000 000 000 000 000 000 000 000 000 000 000 000 000 000 000 000 000 000 000 000 000 \n",
      "\n",
      "000 000 000 000 000 000 000 000 000 000 000 000 000 000 000 000 000 000 000 000 000 000 000 000 000 000 000 000 \n",
      "\n",
      "000 000 000 000 000 000 000 000 000 000 000 000 000 000 000 000 000 000 000 000 000 000 000 000 000 000 000 000 \n",
      "\n",
      "000 000 000 000 000 000 000 000 000 000 000 000 000 000 000 000 000 000 000 000 000 000 000 000 000 000 000 000 "
     ]
    }
   ],
   "source": [
    "for index, value in enumerate(data[im_idx]):\n",
    "    if index % 28 == 0: print(\"\\n\")\n",
    "    print(\"{0:0=3d} \".format(value), end=\"\")\n"
   ]
  },
  {
   "cell_type": "code",
   "execution_count": 6,
   "metadata": {},
   "outputs": [
    {
     "name": "stdout",
     "output_type": "stream",
     "text": [
      "Fitting model\n",
      "Iteration 1, loss = 1.91836945\n",
      "Iteration 2, loss = 0.99552875\n",
      "Iteration 3, loss = 0.56147637\n",
      "Iteration 4, loss = 0.35656583\n",
      "Iteration 5, loss = 0.23354682\n",
      "Iteration 6, loss = 0.18075025\n",
      "Iteration 7, loss = 0.15213649\n",
      "Iteration 8, loss = 0.12766803\n",
      "Iteration 9, loss = 0.11261573\n",
      "Iteration 10, loss = 0.09712798\n",
      "Iteration 11, loss = 0.08971189\n",
      "Iteration 12, loss = 0.07842321\n",
      "Iteration 13, loss = 0.07050759\n",
      "Iteration 14, loss = 0.06637850\n",
      "Iteration 15, loss = 0.06011064\n",
      "Iteration 16, loss = 0.05441903\n",
      "Iteration 17, loss = 0.05281733\n",
      "Iteration 18, loss = 0.04497318\n",
      "Iteration 19, loss = 0.04837581\n",
      "Iteration 20, loss = 0.04451286\n",
      "Iteration 21, loss = 0.03976906\n",
      "Iteration 22, loss = 0.04031231\n",
      "Iteration 23, loss = 0.03196313\n",
      "Iteration 24, loss = 0.02989883\n",
      "Iteration 25, loss = 0.03508921\n",
      "Iteration 26, loss = 0.03282834\n",
      "Iteration 27, loss = 0.03074344\n",
      "Iteration 28, loss = 0.02930884\n",
      "Iteration 29, loss = 0.02559464\n",
      "Iteration 30, loss = 0.02994679\n",
      "Iteration 31, loss = 0.02981417\n",
      "Iteration 32, loss = 0.01959556\n",
      "Iteration 33, loss = 0.01962191\n",
      "Iteration 34, loss = 0.02371673\n",
      "Iteration 35, loss = 0.02384103\n",
      "Iteration 36, loss = 0.02036157\n",
      "Iteration 37, loss = 0.02101937\n",
      "Iteration 38, loss = 0.01866998\n",
      "Iteration 39, loss = 0.01740137\n",
      "Iteration 40, loss = 0.01638861\n",
      "Iteration 41, loss = 0.02228805\n",
      "Iteration 42, loss = 0.02289394\n",
      "Iteration 43, loss = 0.01306732\n",
      "Iteration 44, loss = 0.01612763\n",
      "Iteration 45, loss = 0.01780712\n",
      "Iteration 46, loss = 0.01288820\n",
      "Iteration 47, loss = 0.01671313\n",
      "Iteration 48, loss = 0.02152190\n",
      "Iteration 49, loss = 0.01256715\n",
      "Iteration 50, loss = 0.01239697\n",
      "Iteration 51, loss = 0.01392070\n",
      "Iteration 52, loss = 0.01515928\n",
      "Iteration 53, loss = 0.01326416\n",
      "Iteration 54, loss = 0.01302583\n",
      "Iteration 55, loss = 0.01343024\n",
      "Iteration 56, loss = 0.01332951\n",
      "Iteration 57, loss = 0.01195761\n",
      "Iteration 58, loss = 0.01167225\n",
      "Iteration 59, loss = 0.01372741\n",
      "Iteration 60, loss = 0.01118134\n",
      "Iteration 61, loss = 0.01284951\n",
      "Iteration 62, loss = 0.01159596\n",
      "Iteration 63, loss = 0.01217396\n",
      "Iteration 64, loss = 0.01689961\n",
      "Iteration 65, loss = 0.00948021\n",
      "Iteration 66, loss = 0.01277085\n",
      "Iteration 67, loss = 0.00756513\n",
      "Iteration 68, loss = 0.00695109\n",
      "Iteration 69, loss = 0.01334707\n",
      "Iteration 70, loss = 0.01189356\n",
      "Iteration 71, loss = 0.00785381\n",
      "Iteration 72, loss = 0.01033284\n",
      "Iteration 73, loss = 0.00980743\n",
      "Iteration 74, loss = 0.01377616\n",
      "Iteration 75, loss = 0.00842438\n",
      "Iteration 76, loss = 0.00677262\n",
      "Iteration 77, loss = 0.00319008\n",
      "Iteration 78, loss = 0.01770623\n",
      "Iteration 79, loss = 0.00890384\n",
      "Iteration 80, loss = 0.01044053\n",
      "Iteration 81, loss = 0.00825629\n",
      "Iteration 82, loss = 0.00505926\n",
      "Iteration 83, loss = 0.01016039\n",
      "Iteration 84, loss = 0.01433608\n",
      "Iteration 85, loss = 0.00968701\n",
      "Iteration 86, loss = 0.00533136\n",
      "Iteration 87, loss = 0.00970882\n",
      "Iteration 88, loss = 0.00933964\n",
      "Training loss did not improve more than tol=0.000100 for 10 consecutive epochs. Stopping.\n",
      "Fitting model ended\n"
     ]
    }
   ],
   "source": [
    "classificador_MLP = MLPClassifier(hidden_layer_sizes=(64,128,64,10), verbose=True, alpha=0.0001, tol=1e-4)\n",
    "\n",
    "print(\"Fitting model\")\n",
    "classificador_MLP.fit(data_train,target_train)\n",
    "print(\"Fitting model ended\")"
   ]
  },
  {
   "cell_type": "code",
   "execution_count": 7,
   "metadata": {},
   "outputs": [
    {
     "name": "stdout",
     "output_type": "stream",
     "text": [
      "Começando testes\n",
      "Fim dos testes\n"
     ]
    }
   ],
   "source": [
    "print(\"Começando testes\")\n",
    "predictions = classificador_MLP.predict(data_test)\n",
    "print(\"Fim dos testes\")"
   ]
  },
  {
   "cell_type": "code",
   "execution_count": 8,
   "metadata": {},
   "outputs": [
    {
     "name": "stdout",
     "output_type": "stream",
     "text": [
      "[[1326    0    3    2    0    1    7    1    7    2]\n",
      " [   0 1556    8    5    2    0    0    3    5    2]\n",
      " [   4    3 1353   10    2    0    3    8   15    2]\n",
      " [   0    0    7 1393    0   14    0    3   10    7]\n",
      " [   1    0    1    0 1296    2    6    4    2   16]\n",
      " [   3    1    0   23    3 1229    9    2    9    7]\n",
      " [   7    1    0    2    0    6 1379    0   11    1]\n",
      " [   3    1    9    3    2    0    1 1439    2   16]\n",
      " [   2    5    5    3    3   11    3    2 1351    6]\n",
      " [   5    1    1    6   14    8    1    6   12 1294]]\n"
     ]
    },
    {
     "data": {
      "text/plain": [
       "<matplotlib.axes._subplots.AxesSubplot at 0x7f07304426a0>"
      ]
     },
     "execution_count": 8,
     "metadata": {},
     "output_type": "execute_result"
    },
    {
     "data": {
      "image/png": "[encoded data removed]",
      "text/plain": [
       "<Figure size 720x504 with 2 Axes>"
      ]
     },
     "metadata": {
      "needs_background": "light"
     },
     "output_type": "display_data"
    }
   ],
   "source": [
    "print(confusion_matrix(target_test,predictions))\n",
    "cm = confusion_matrix(target_test,predictions)\n",
    "df_cm = pd.DataFrame(cm, index = [i for i in \"0123456789\"],\n",
    "                  columns = [i for i in \"0123456789\"])\n",
    "plt.figure(figsize = (10,7))\n",
    "sn.heatmap(df_cm, annot=True)"
   ]
  },
  {
   "cell_type": "code",
   "execution_count": 9,
   "metadata": {},
   "outputs": [
    {
     "name": "stdout",
     "output_type": "stream",
     "text": [
      "Training set score: 0.998679\n",
      "Test set score: 0.972571\n"
     ]
    }
   ],
   "source": [
    "print(\"Training set score: %f\" % classificador_MLP.score(data_train, target_train))\n",
    "print(\"Test set score: %f\" % classificador_MLP.score(data_test, target_test))"
   ]
  }
 ],
 "metadata": {
  "kernelspec": {
   "display_name": "Python 3",
   "language": "python",
   "name": "python3"
  },
  "language_info": {
   "codemirror_mode": {
    "name": "ipython",
    "version": 3
   },
   "file_extension": ".py",
   "mimetype": "text/x-python",
   "name": "python",
   "nbconvert_exporter": "python",
   "pygments_lexer": "ipython3",
   "version": "3.6.7"
  }
 },
 "nbformat": 4,
 "nbformat_minor": 2
}
