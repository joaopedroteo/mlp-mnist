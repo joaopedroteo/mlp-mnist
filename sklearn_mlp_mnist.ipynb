{
  "nbformat": 4,
  "nbformat_minor": 0,
  "metadata": {
    "colab": {
      "name": "sklearn_mlp_mnist.ipynb",
      "version": "0.3.2",
      "provenance": []
    },
    "language_info": {
      "codemirror_mode": {
        "name": "ipython",
        "version": 3
      },
      "file_extension": ".py",
      "mimetype": "text/x-python",
      "name": "python",
      "nbconvert_exporter": "python",
      "pygments_lexer": "ipython3",
      "version": "3.6.7"
    },
    "kernelspec": {
      "display_name": "Python 3",
      "language": "python",
      "name": "python3"
    }
  },
  "cells": [
    {
      "cell_type": "markdown",
      "metadata": {
        "id": "O89CSguCqW5e",
        "colab_type": "text"
      },
      "source": [
        "# Multilayer Perceptron MNIST"
      ]
    },
    {
      "cell_type": "markdown",
      "metadata": {
        "id": "q0Z5lhJTqW5i",
        "colab_type": "text"
      },
      "source": [
        "## Imports"
      ]
    },
    {
      "cell_type": "code",
      "metadata": {
        "id": "tczxQ1GaqW5k",
        "colab_type": "code",
        "colab": {}
      },
      "source": [
        "%matplotlib inline\n",
        "\n",
        "import warnings\n",
        "import random\n",
        "import pprint\n",
        "\n",
        "import numpy as np\n",
        "import pandas as pd\n",
        "import seaborn as sn\n",
        "\n",
        "from sklearn.neural_network import MLPClassifier\n",
        "from sklearn.datasets import fetch_mldata\n",
        "from sklearn.model_selection import train_test_split\n",
        "from sklearn.datasets.base import get_data_home \n",
        "from sklearn.metrics import classification_report,confusion_matrix\n",
        "import matplotlib.pyplot as plt"
      ],
      "execution_count": 0,
      "outputs": []
    },
    {
      "cell_type": "markdown",
      "metadata": {
        "id": "VfGjjmmKqW5r",
        "colab_type": "text"
      },
      "source": [
        "## Baixando e configurando o dataset"
      ]
    },
    {
      "cell_type": "code",
      "metadata": {
        "id": "8uxRN-d2qW5t",
        "colab_type": "code",
        "outputId": "d5dba976-9741-4aa7-936e-11c7cc28c1bd",
        "colab": {
          "base_uri": "https://localhost:8080/",
          "height": 91
        }
      },
      "source": [
        "#Ignorando os warnings\n",
        "warnings.filterwarnings(\"ignore\", category=DeprecationWarning)\n",
        "print('Baixando MNIST data')\n",
        "mnist_dataset = fetch_mldata('MNIST original')\n",
        "print('Download concluído.')\n",
        "\n",
        "data = mnist_dataset.data\n",
        "target = mnist_dataset.target\n",
        "#mages = mnist_dataset.images\n",
        "\n",
        "tamanho_dataset_teste = 0.2\n",
        "\n",
        "data_train, data_test, target_train, target_test = train_test_split(data, target, test_size=tamanho_dataset_teste, random_state=42)\n",
        "\n",
        "print(f\"Training dataset size: {len(data_train)}\")\n",
        "print(f\"Test dataset size: {len(target_train)}\")\n"
      ],
      "execution_count": 2,
      "outputs": [
        {
          "output_type": "stream",
          "text": [
            "Baixando MNIST data\n",
            "Download concluído.\n",
            "Training dataset size: 56000\n",
            "Test dataset size: 56000\n"
          ],
          "name": "stdout"
        }
      ]
    },
    {
      "cell_type": "markdown",
      "metadata": {
        "id": "Fv2jFg3dqW52",
        "colab_type": "text"
      },
      "source": [
        "Alguns números do dataset:"
      ]
    },
    {
      "cell_type": "code",
      "metadata": {
        "id": "pv-Ov2sAqW53",
        "colab_type": "code",
        "outputId": "8672b73c-127a-4f8e-8d18-ffd674a5d58a",
        "colab": {
          "base_uri": "https://localhost:8080/",
          "height": 228
        }
      },
      "source": [
        "fig, ax = plt.subplots(2,5)\n",
        "for i, ax in enumerate(ax.flatten()):\n",
        "    im_idx = np.argwhere(target == i)[0]\n",
        "    plottable_image = np.reshape(data[im_idx], (28, 28))\n",
        "    ax.imshow(plottable_image, cmap='gray_r')"
      ],
      "execution_count": 3,
      "outputs": [
        {
          "output_type": "display_data",
          "data": {
            "image/png": "[encoded data removed]",
            "text/plain": [
              "<Figure size 432x288 with 10 Axes>"
            ]
          },
          "metadata": {
            "tags": []
          }
        }
      ]
    },
    {
      "cell_type": "code",
      "metadata": {
        "id": "mjEdVZLpqW59",
        "colab_type": "code",
        "outputId": "f05b87fe-d774-4234-e750-01350317836c",
        "colab": {
          "base_uri": "https://localhost:8080/",
          "height": 288
        }
      },
      "source": [
        "fig, ax = plt.subplots(1)\n",
        "im_idx = 34567\n",
        "plottable_image = np.reshape(data[im_idx], (28, 28))\n",
        "ax.imshow(plottable_image, cmap='gray_r')"
      ],
      "execution_count": 4,
      "outputs": [
        {
          "output_type": "execute_result",
          "data": {
            "text/plain": [
              "<matplotlib.image.AxesImage at 0x7f4a4c8a7dd8>"
            ]
          },
          "metadata": {
            "tags": []
          },
          "execution_count": 4
        },
        {
          "output_type": "display_data",
          "data": {
            "image/png": "[encoded data removed]",
            "text/plain": [
              "<Figure size 432x288 with 1 Axes>"
            ]
          },
          "metadata": {
            "tags": []
          }
        }
      ]
    },
    {
      "cell_type": "code",
      "metadata": {
        "scrolled": false,
        "id": "BdzSOBBfqW6B",
        "colab_type": "code",
        "outputId": "d7f68e9c-d60e-4d34-e273-0392b1cb2231",
        "colab": {
          "base_uri": "https://localhost:8080/",
          "height": 1075
        }
      },
      "source": [
        "for index, value in enumerate(data[im_idx]):\n",
        "    if index % 28 == 0: print(\"\\n\")\n",
        "    print(\"{0:0=3d} \".format(value), end=\"\")\n"
      ],
      "execution_count": 5,
      "outputs": [
        {
          "output_type": "stream",
          "text": [
            "\n",
            "\n",
            "000 000 000 000 000 000 000 000 000 000 000 000 000 000 000 000 000 000 000 000 000 000 000 000 000 000 000 000 \n",
            "\n",
            "000 000 000 000 000 000 000 000 000 000 000 000 000 000 000 000 000 000 000 000 000 000 000 000 000 000 000 000 \n",
            "\n",
            "000 000 000 000 000 000 000 000 000 000 000 000 000 000 000 000 000 000 000 000 000 000 000 000 000 000 000 000 \n",
            "\n",
            "000 000 000 000 000 000 000 000 000 000 000 000 000 000 000 000 000 000 000 000 000 000 000 000 000 000 000 000 \n",
            "\n",
            "000 000 000 000 000 000 000 000 000 000 000 000 000 000 000 000 000 000 000 000 000 000 000 000 000 000 000 000 \n",
            "\n",
            "000 000 000 000 000 000 000 000 000 000 000 000 000 000 000 000 000 000 000 000 000 000 000 000 000 000 000 000 \n",
            "\n",
            "000 000 000 000 000 000 000 000 000 000 000 000 000 000 000 000 000 000 000 000 000 000 000 000 000 000 000 000 \n",
            "\n",
            "000 000 000 000 000 000 000 000 000 000 000 000 000 000 000 000 000 000 000 000 000 000 000 000 000 000 000 000 \n",
            "\n",
            "000 000 000 000 000 000 000 000 000 000 000 000 000 000 003 124 221 013 000 000 018 019 066 154 093 000 000 000 \n",
            "\n",
            "000 000 000 000 000 000 000 000 000 000 000 000 000 070 208 254 248 157 200 200 251 230 203 203 117 000 000 000 \n",
            "\n",
            "000 000 000 000 000 000 000 000 000 000 000 004 081 244 253 223 169 169 163 096 049 012 000 000 000 000 000 000 \n",
            "\n",
            "000 000 000 000 000 000 000 000 000 000 038 185 254 254 106 000 000 000 000 000 000 000 000 000 000 000 000 000 \n",
            "\n",
            "000 000 000 000 000 000 000 000 000 006 208 254 254 254 233 226 152 073 002 000 000 000 000 000 000 000 000 000 \n",
            "\n",
            "000 000 000 000 000 000 000 000 000 006 107 165 143 143 143 143 178 254 138 000 000 000 000 000 000 000 000 000 \n",
            "\n",
            "000 000 000 000 000 000 000 000 000 000 000 000 000 000 000 000 005 175 200 000 000 000 000 000 000 000 000 000 \n",
            "\n",
            "000 000 000 000 000 000 000 000 000 000 000 000 000 000 000 000 021 219 189 000 000 000 000 000 000 000 000 000 \n",
            "\n",
            "000 000 000 000 000 098 118 064 012 000 000 000 000 000 000 000 192 254 071 000 000 000 000 000 000 000 000 000 \n",
            "\n",
            "000 000 000 000 000 224 254 254 246 239 155 097 097 098 170 212 237 098 004 000 000 000 000 000 000 000 000 000 \n",
            "\n",
            "000 000 000 000 000 099 213 254 254 254 254 254 254 254 230 135 053 000 000 000 000 000 000 000 000 000 000 000 \n",
            "\n",
            "000 000 000 000 000 000 005 026 110 160 092 092 092 070 011 000 000 000 000 000 000 000 000 000 000 000 000 000 \n",
            "\n",
            "000 000 000 000 000 000 000 000 000 000 000 000 000 000 000 000 000 000 000 000 000 000 000 000 000 000 000 000 \n",
            "\n",
            "000 000 000 000 000 000 000 000 000 000 000 000 000 000 000 000 000 000 000 000 000 000 000 000 000 000 000 000 \n",
            "\n",
            "000 000 000 000 000 000 000 000 000 000 000 000 000 000 000 000 000 000 000 000 000 000 000 000 000 000 000 000 \n",
            "\n",
            "000 000 000 000 000 000 000 000 000 000 000 000 000 000 000 000 000 000 000 000 000 000 000 000 000 000 000 000 \n",
            "\n",
            "000 000 000 000 000 000 000 000 000 000 000 000 000 000 000 000 000 000 000 000 000 000 000 000 000 000 000 000 \n",
            "\n",
            "000 000 000 000 000 000 000 000 000 000 000 000 000 000 000 000 000 000 000 000 000 000 000 000 000 000 000 000 \n",
            "\n",
            "000 000 000 000 000 000 000 000 000 000 000 000 000 000 000 000 000 000 000 000 000 000 000 000 000 000 000 000 \n",
            "\n",
            "000 000 000 000 000 000 000 000 000 000 000 000 000 000 000 000 000 000 000 000 000 000 000 000 000 000 000 000 "
          ],
          "name": "stdout"
        }
      ]
    },
    {
      "cell_type": "code",
      "metadata": {
        "id": "9ilgnVIiqW6H",
        "colab_type": "code",
        "outputId": "017837ec-58ea-4d01-994f-c9d6b0fc975c",
        "colab": {
          "base_uri": "https://localhost:8080/",
          "height": 871
        }
      },
      "source": [
        "classificador_MLP = MLPClassifier(hidden_layer_sizes=(64,128,64,10), verbose=True, alpha=0.0001, tol=1e-4)\n",
        "\n",
        "print(\"Fitting model\")\n",
        "classificador_MLP.fit(data_train,target_train)\n",
        "print(\"Fitting model ended\")"
      ],
      "execution_count": 0,
      "outputs": [
        {
          "output_type": "stream",
          "text": [
            "Fitting model\n",
            "Iteration 1, loss = 2.59843244\n",
            "Iteration 2, loss = 2.31565664\n",
            "Iteration 3, loss = 2.09191646\n",
            "Iteration 4, loss = 1.40059202\n",
            "Iteration 5, loss = 0.92593712\n",
            "Iteration 6, loss = 0.48504171\n",
            "Iteration 7, loss = 0.26895375\n",
            "Iteration 8, loss = 0.20244221\n",
            "Iteration 9, loss = 0.16356010\n",
            "Iteration 10, loss = 0.14373921\n",
            "Iteration 11, loss = 0.12493521\n",
            "Iteration 12, loss = 0.10870026\n",
            "Iteration 13, loss = 0.09455275\n",
            "Iteration 14, loss = 0.09233529\n",
            "Iteration 15, loss = 0.07610585\n",
            "Iteration 16, loss = 0.06867435\n",
            "Iteration 17, loss = 0.06595150\n",
            "Iteration 18, loss = 0.06601659\n",
            "Iteration 19, loss = 0.05911438\n",
            "Iteration 20, loss = 0.05358297\n",
            "Iteration 21, loss = 0.04818809\n",
            "Iteration 22, loss = 0.04718102\n",
            "Iteration 23, loss = 0.04764656\n",
            "Iteration 24, loss = 0.04324433\n",
            "Iteration 25, loss = 0.04431332\n",
            "Iteration 26, loss = 0.04241945\n",
            "Iteration 27, loss = 0.03614723\n",
            "Iteration 28, loss = 0.03012304\n",
            "Iteration 29, loss = 0.03470671\n",
            "Iteration 30, loss = 0.03330592\n",
            "Iteration 31, loss = 0.02548161\n",
            "Iteration 32, loss = 0.03436074\n",
            "Iteration 33, loss = 0.03317762\n",
            "Iteration 34, loss = 0.02566425\n",
            "Iteration 35, loss = 0.03171761\n",
            "Iteration 36, loss = 0.02668778\n",
            "Iteration 37, loss = 0.02518107\n",
            "Iteration 38, loss = 0.02710979\n",
            "Iteration 39, loss = 0.02161243\n",
            "Iteration 40, loss = 0.01604242\n",
            "Iteration 41, loss = 0.02627148\n",
            "Iteration 42, loss = 0.02056554\n",
            "Iteration 43, loss = 0.02242905\n",
            "Iteration 44, loss = 0.02354131\n",
            "Iteration 45, loss = 0.01891852\n"
          ],
          "name": "stdout"
        }
      ]
    },
    {
      "cell_type": "code",
      "metadata": {
        "id": "Hbi8jvKUqW6O",
        "colab_type": "code",
        "colab": {}
      },
      "source": [
        "print(\"Começando testes\")\n",
        "predictions = classificador_MLP.predict(data_test)\n",
        "print(\"Fim dos testes\")"
      ],
      "execution_count": 0,
      "outputs": []
    },
    {
      "cell_type": "code",
      "metadata": {
        "id": "vCjFUf9qqW6Y",
        "colab_type": "code",
        "colab": {}
      },
      "source": [
        "print(confusion_matrix(target_test,predictions))\n",
        "cm = confusion_matrix(target_test,predictions)\n",
        "df_cm = pd.DataFrame(cm, index = [i for i in \"0123456789\"],\n",
        "                  columns = [i for i in \"0123456789\"])\n",
        "plt.figure(figsize = (10,7))\n",
        "sn.heatmap(df_cm, annot=True)"
      ],
      "execution_count": 0,
      "outputs": []
    },
    {
      "cell_type": "code",
      "metadata": {
        "id": "3gJrNRu5qW6e",
        "colab_type": "code",
        "colab": {}
      },
      "source": [
        "print(\"Training set score: %f\" % classificador_MLP.score(data_train, target_train))\n",
        "print(\"Test set score: %f\" % classificador_MLP.score(data_test, target_test))"
      ],
      "execution_count": 0,
      "outputs": []
    }
  ]
}