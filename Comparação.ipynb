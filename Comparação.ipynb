{
  "nbformat": 4,
  "nbformat_minor": 0,
  "metadata": {
    "colab": {
      "name": "Comparação",
      "version": "0.3.2",
      "provenance": [],
      "collapsed_sections": []
    },
    "language_info": {
      "codemirror_mode": {
        "name": "ipython",
        "version": 3
      },
      "file_extension": ".py",
      "mimetype": "text/x-python",
      "name": "python",
      "nbconvert_exporter": "python",
      "pygments_lexer": "ipython3",
      "version": "3.6.7"
    },
    "kernelspec": {
      "display_name": "Python 3",
      "language": "python",
      "name": "python3"
    }
  },
  "cells": [
    {
      "cell_type": "markdown",
      "metadata": {
        "colab_type": "text",
        "id": "KPAVxIkXxKs7"
      },
      "source": [
        "# MLP-MNIST Scikit vs. nossa implementação\n",
        "\n",
        "Ao compararmos os resultados das suas implementações, percebemos que a nossa implementação apresentou resultados melhores do que a implementação com o scikit. Podemos observar isso, comparando a quantidade de perda nos dois algoritmos:\n",
        "\n",
        "* Com o Scikit tivemos uma perda de 0.04516729 na época 25\n",
        "* Na nossa implementação o erro na época 25 foi de 0.000596906829\n",
        "\n",
        "Portanto, nosso algoritmo está apresentando uma convergencia bem maior que o a implementação com o scikit.\n",
        "Porém, o scikit consegue fazer mais iterações em menos tempo, mas ainda assim o custo x benefício do nosso código é maior."
      ]
    }
  ]
}