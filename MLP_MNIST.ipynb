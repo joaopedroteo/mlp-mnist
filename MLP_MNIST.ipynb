{
  "nbformat": 4,
  "nbformat_minor": 0,
  "metadata": {
    "colab": {
      "name": "MLP_MNIST.ipynb",
      "version": "0.3.2",
      "provenance": [],
      "collapsed_sections": []
    },
    "language_info": {
      "codemirror_mode": {
        "name": "ipython",
        "version": 3
      },
      "file_extension": ".py",
      "mimetype": "text/x-python",
      "name": "python",
      "nbconvert_exporter": "python",
      "pygments_lexer": "ipython3",
      "version": "3.6.7"
    },
    "kernelspec": {
      "display_name": "Python 3",
      "language": "python",
      "name": "python3"
    }
  },
  "cells": [
    {
      "cell_type": "markdown",
      "metadata": {
        "colab_type": "text",
        "id": "KPAVxIkXxKs7"
      },
      "source": [
        "#MLP-MNIST"
      ]
    },
    {
      "cell_type": "code",
      "metadata": {
        "colab_type": "code",
        "id": "BO8gfx9vynMv",
        "colab": {}
      },
      "source": [
        "from __future__ import print_function\n",
        "import numpy as np ## For numerical python\n",
        "import keras\n",
        "import matplotlib.pyplot as plt\n",
        "from sklearn.metrics import confusion_matrix\n",
        "import pandas as pd\n",
        "import seaborn as sn\n",
        "\n",
        "from tqdm import trange\n",
        "np.random.seed(42)"
      ],
      "execution_count": 0,
      "outputs": []
    },
    {
      "cell_type": "markdown",
      "metadata": {
        "colab_type": "text",
        "id": "U9J_SkUXLbhh"
      },
      "source": [
        "A classe Layer funciona como base para as outras camadas que a herdam. Portanto, todas as camadas devem ter: \n",
        "* função de forward\n",
        "* função de backward\n",
        "* construtor\n",
        "Nesse caso, como se trata de uma classe \"molde\" para as outras, a função forward não faz nada"
      ]
    },
    {
      "cell_type": "code",
      "metadata": {
        "colab_type": "code",
        "id": "QrHOQby6yrll",
        "colab": {}
      },
      "source": [
        "class Layer:\n",
        "    \n",
        "    def __init__(self):\n",
        "        pass\n",
        "    \n",
        "    def forward(self, input):\n",
        "        return input\n",
        "\n",
        "    def backward(self, input, grad_output):\n",
        "        return input"
      ],
      "execution_count": 0,
      "outputs": []
    },
    {
      "cell_type": "markdown",
      "metadata": {
        "colab_type": "text",
        "id": "6jFVTWMMME99"
      },
      "source": [
        "## Classe ReLU"
      ]
    },
    {
      "cell_type": "markdown",
      "metadata": {
        "id": "asAwvhJaD9C6",
        "colab_type": "text"
      },
      "source": [
        "Essa classe tem o objetivo de aplica não linearidade nos resultados da rede. Da maneira como fizemos, depois de cada camada Dense existe uma camada ReLU, dessa forma conseguimos classificar coisas não lineares usando uma rede de perceptrons."
      ]
    },
    {
      "cell_type": "code",
      "metadata": {
        "colab_type": "code",
        "id": "B5EDSf1RywFW",
        "colab": {}
      },
      "source": [
        "class ReLU(Layer):\n",
        "    \n",
        "    def __init__(self):\n",
        "        pass\n",
        "    \n",
        "    def forward(self, input):\n",
        "        relu_forward = np.maximum(0,input)\n",
        "        return relu_forward\n",
        "    \n",
        "    def backward(self, input, grad_output):\n",
        "        relu_grad = input > 0\n",
        "        return grad_output*relu_grad\n"
      ],
      "execution_count": 0,
      "outputs": []
    },
    {
      "cell_type": "markdown",
      "metadata": {
        "id": "ewasiHXDFBX7",
        "colab_type": "text"
      },
      "source": [
        "## Classe Dense"
      ]
    },
    {
      "cell_type": "markdown",
      "metadata": {
        "colab_type": "text",
        "id": "Ea0am3NJRO_2"
      },
      "source": [
        "Essa classe é a camada de perceptrons comuns que possui os pesos, os bias e o alfa (taxa de aprendizado) dessa rede. \n",
        "Na sua função de forward,  as entradas são multiplicadas com as saídas e depois somadas com os bias.\n",
        "Na função de backward são calculados os erros e a taxa de corração, então os pesos dessa camada são corrigidos."
      ]
    },
    {
      "cell_type": "code",
      "metadata": {
        "id": "eB6hTWUlGw3E",
        "colab_type": "code",
        "colab": {}
      },
      "source": [
        ""
      ],
      "execution_count": 0,
      "outputs": []
    },
    {
      "cell_type": "code",
      "metadata": {
        "colab_type": "code",
        "id": "BsyFM8XSy0nj",
        "colab": {}
      },
      "source": [
        "class Dense(Layer):\n",
        "    def __init__(self, input_units, output_units, learning_rate=0.1):\n",
        "        \n",
        "        self.learning_rate = learning_rate\n",
        "        self.weights = np.random.normal(loc=0.0, \n",
        "                                        scale = np.sqrt(2/(input_units+output_units)), \n",
        "                                        size = (input_units,output_units))\n",
        "        self.biases = np.zeros(output_units)\n",
        "        \n",
        "    def forward(self,input):\n",
        "        # Perform an affine transformation:\n",
        "        # f(x) = <W*x> + b\n",
        "        \n",
        "        # input shape: [batch, input_units]\n",
        "        # output shape: [batch, output units]\n",
        "        \n",
        "        return np.dot(input,self.weights) + self.biases\n",
        "    \n",
        "    def backward(self,input,grad_output):\n",
        "        # compute d f / d x = d f / d dense * d dense / d x\n",
        "        # where d dense/ d x = weights transposed\n",
        "        grad_input = np.dot(grad_output, self.weights.T)\n",
        "        \n",
        "        # compute gradient w.r.t. weights and biases\n",
        "        grad_weights = np.dot(input.T, grad_output)\n",
        "        grad_biases = grad_output.mean(axis=0)*input.shape[0]\n",
        "        \n",
        "        assert grad_weights.shape == self.weights.shape and grad_biases.shape == self.biases.shape\n",
        "        \n",
        "        # Here we perform a stochastic gradient descent step. \n",
        "        self.weights = self.weights - self.learning_rate * grad_weights\n",
        "        self.biases = self.biases - self.learning_rate * grad_biases\n",
        "        \n",
        "        return grad_input"
      ],
      "execution_count": 0,
      "outputs": []
    },
    {
      "cell_type": "markdown",
      "metadata": {
        "id": "l7XNiT90G3SG",
        "colab_type": "text"
      },
      "source": [
        "## Funções auxiliares\n"
      ]
    },
    {
      "cell_type": "code",
      "metadata": {
        "colab_type": "code",
        "id": "68X4Efk-y37R",
        "colab": {}
      },
      "source": [
        "def softmax_crossentropy_with_logits(logits,reference_answers):\n",
        "    logits_for_answers = logits[np.arange(len(logits)),reference_answers]\n",
        "    \n",
        "    xentropy = - logits_for_answers + np.log(np.sum(np.exp(logits),axis=-1))\n",
        "    \n",
        "    return xentropy\n",
        "\n",
        "def grad_softmax_crossentropy_with_logits(logits,reference_answers):\n",
        "    ones_for_answers = np.zeros_like(logits)\n",
        "    ones_for_answers[np.arange(len(logits)),reference_answers] = 1\n",
        "    \n",
        "    softmax = np.exp(logits) / np.exp(logits).sum(axis=-1,keepdims=True)\n",
        "    \n",
        "    return (- ones_for_answers + softmax) / logits.shape[0]"
      ],
      "execution_count": 0,
      "outputs": []
    },
    {
      "cell_type": "code",
      "metadata": {
        "colab_type": "code",
        "id": "9lc9lEbxy7Kx",
        "colab": {}
      },
      "source": [
        "def load_dataset(flatten=False):\n",
        "    (X_train, y_train), (X_test, y_test) = keras.datasets.mnist.load_data()\n",
        "\n",
        "    # normalize x\n",
        "    X_train = X_train.astype(float) / 255.\n",
        "    X_test = X_test.astype(float) / 255.\n",
        "\n",
        "    # As últimas 1000 entradas são reservadas para validação \n",
        "    X_train, X_val = X_train[:-10000], X_train[-10000:]\n",
        "    y_train, y_val = y_train[:-10000], y_train[-10000:]\n",
        "\n",
        "    if flatten:\n",
        "        X_train = X_train.reshape([X_train.shape[0], -1])\n",
        "        X_val = X_val.reshape([X_val.shape[0], -1])\n",
        "        X_test = X_test.reshape([X_test.shape[0], -1])\n",
        "\n",
        "    return X_train, y_train, X_val, y_val, X_test, y_test"
      ],
      "execution_count": 0,
      "outputs": []
    },
    {
      "cell_type": "code",
      "metadata": {
        "colab_type": "code",
        "id": "AStzxQ4mzS-Q",
        "colab": {}
      },
      "source": [
        "def iterate_minibatches(inputs, targets, batchsize, shuffle=False):\n",
        "    assert len(inputs) == len(targets)\n",
        "    if shuffle:\n",
        "        indices = np.random.permutation(len(inputs))\n",
        "    for start_idx in trange(0, len(inputs) - batchsize + 1, batchsize):\n",
        "        if shuffle:\n",
        "            excerpt = indices[start_idx:start_idx + batchsize]\n",
        "        else:\n",
        "            excerpt = slice(start_idx, start_idx + batchsize)\n",
        "        yield inputs[excerpt], targets[excerpt]"
      ],
      "execution_count": 0,
      "outputs": []
    },
    {
      "cell_type": "markdown",
      "metadata": {
        "id": "bLRyBwNGIDkl",
        "colab_type": "text"
      },
      "source": [
        "## Função forward\n",
        "\n",
        "Percorre todas as camadas da rede fazer o forward. A saída de uma camada vai para a entrada de outra.\n",
        "Retorna uma lista com os valores de ativação de cada camada."
      ]
    },
    {
      "cell_type": "code",
      "metadata": {
        "colab_type": "code",
        "id": "aelj31fdy94r",
        "colab": {}
      },
      "source": [
        "def forward(network, X):\n",
        "\n",
        "    activations = []\n",
        "    input = X\n",
        "\n",
        "    # Looping through each layer\n",
        "    for l in network:\n",
        "        activations.append(l.forward(input))\n",
        "        # Updating input to last layer output\n",
        "        input = activations[-1]\n",
        "    \n",
        "    assert len(activations) == len(network)\n",
        "    return activations"
      ],
      "execution_count": 0,
      "outputs": []
    },
    {
      "cell_type": "markdown",
      "metadata": {
        "id": "wwI70OWnIlJB",
        "colab_type": "text"
      },
      "source": [
        "## Função predict\n",
        "\n",
        "Faz o forward na rede, analisa o valor da saída da última camada e retorna qual o número tem maior probabilidade de estar na imagem de acordo com o aprendizado da rede."
      ]
    },
    {
      "cell_type": "code",
      "metadata": {
        "colab_type": "code",
        "id": "RCDROROYzBZa",
        "colab": {}
      },
      "source": [
        "def predict(network,X):\n",
        "    logits = forward(network,X)[-1]\n",
        "    return logits.argmax(axis=-1)"
      ],
      "execution_count": 0,
      "outputs": []
    },
    {
      "cell_type": "markdown",
      "metadata": {
        "id": "M5Znq8EvI7VV",
        "colab_type": "text"
      },
      "source": [
        "## Função train\n",
        "\n",
        "Realiza o treino da rede, fazendo o forward em todas as camadas, depois calculando o erro e propagando-o de trás pra frente (backpropagation)."
      ]
    },
    {
      "cell_type": "code",
      "metadata": {
        "colab_type": "code",
        "id": "7RRdeGMJzD2P",
        "colab": {}
      },
      "source": [
        "def train(network,X,y):\n",
        "\n",
        "    layer_activations = forward(network,X)\n",
        "    layer_inputs = [X]+layer_activations\n",
        "    logits = layer_activations[-1]\n",
        "    \n",
        "    loss = softmax_crossentropy_with_logits(logits,y)\n",
        "    loss_grad = grad_softmax_crossentropy_with_logits(logits,y)\n",
        "    \n",
        "    for layer_index in range(len(network))[::-1]:\n",
        "        layer = network[layer_index]\n",
        "        \n",
        "        loss_grad = layer.backward(layer_inputs[layer_index],loss_grad) #grad w.r.t. input, also weight updates\n",
        "        \n",
        "    return np.mean(loss)"
      ],
      "execution_count": 0,
      "outputs": []
    },
    {
      "cell_type": "markdown",
      "metadata": {
        "id": "n8WVOeeHKAEj",
        "colab_type": "text"
      },
      "source": [
        "## MAIN\n",
        "\n",
        "Primeiro vamos mostrar um exemplo de como é o dataset mnist que estamos trabalhando."
      ]
    },
    {
      "cell_type": "code",
      "metadata": {
        "colab_type": "code",
        "id": "krs8jtVxzXZE",
        "outputId": "d302cc1d-0862-4b19-cca0-9c5229514dc0",
        "colab": {
          "base_uri": "https://localhost:8080/",
          "height": 390
        }
      },
      "source": [
        "X_train, y_train, X_val, y_val, X_test, y_test = load_dataset(flatten=True)\n",
        "\n",
        "plt.figure(figsize=[6,6])\n",
        "for i in range(4):\n",
        "    plt.subplot(2,2,i+1)\n",
        "    plt.title(\"Label: %i\"%y_train[i])\n",
        "    plt.imshow(X_train[i].reshape([28,28]),cmap='gray');\n",
        "\n",
        "network = []\n",
        "network.append(Dense(X_train.shape[1],100))\n",
        "network.append(ReLU())\n",
        "network.append(Dense(100,200))\n",
        "network.append(ReLU())\n",
        "network.append(Dense(200,10))"
      ],
      "execution_count": 35,
      "outputs": [
        {
          "output_type": "display_data",
          "data": {
            "image/png": "[encoded data removed]",
            "text/plain": [
              "<Figure size 432x432 with 4 Axes>"
            ]
          },
          "metadata": {
            "tags": []
          }
        }
      ]
    },
    {
      "cell_type": "markdown",
      "metadata": {
        "id": "ZnnuUOY9KVQv",
        "colab_type": "text"
      },
      "source": [
        "Realizamos um treinamento de 25 épocas."
      ]
    },
    {
      "cell_type": "code",
      "metadata": {
        "colab_type": "code",
        "id": "S7WkQUztz1fm",
        "outputId": "b56fa7d3-5ddd-4ce8-8bc2-91d88c9ceeca",
        "scrolled": true,
        "colab": {
          "base_uri": "https://localhost:8080/",
          "height": 362
        }
      },
      "source": [
        "from IPython.display import clear_output\n",
        "train_log = []\n",
        "val_log = []\n",
        "\n",
        "for epoch in range(25):\n",
        "    losses = []\n",
        "    for x_batch,y_batch in iterate_minibatches(X_train,y_train,batchsize=32,shuffle=True):\n",
        "        l = train(network,x_batch,y_batch)\n",
        "        losses.append(l)\n",
        "        \n",
        "    losses = np.array(losses)\n",
        "    epoch_loss = np.mean(losses)\n",
        "    \n",
        "    train_log.append(np.mean(predict(network,X_train)==y_train))\n",
        "    val_log.append(np.mean(predict(network,X_val)==y_val))\n",
        "    \n",
        "    clear_output()\n",
        "    \n",
        "    print(\"Epoch\",epoch)\n",
        "    print(\"Epoch Loss:\", epoch_loss)\n",
        "    print(\"Train accuracy:\",train_log[-1])\n",
        "    print(\"Val accuracy:\",val_log[-1])\n",
        "    plt.plot(train_log,label='train accuracy')\n",
        "    plt.plot(val_log,label='val accuracy')\n",
        "    plt.legend(loc='best')\n",
        "    plt.grid()\n",
        "    plt.show()"
      ],
      "execution_count": 0,
      "outputs": [
        {
          "output_type": "stream",
          "text": [
            "Epoch 6\n",
            "Epoch Loss: 0.03781242025581539\n",
            "Train accuracy: 0.99088\n",
            "Val accuracy: 0.9765\n"
          ],
          "name": "stdout"
        },
        {
          "output_type": "display_data",
          "data": {
            "image/png": "[encoded data removed]",
            "text/plain": [
              "<Figure size 432x288 with 1 Axes>"
            ]
          },
          "metadata": {
            "tags": []
          }
        },
        {
          "output_type": "stream",
          "text": [
            " 97%|█████████▋| 1522/1562 [00:04<00:00, 377.43it/s]"
          ],
          "name": "stderr"
        }
      ]
    },
    {
      "cell_type": "markdown",
      "metadata": {
        "id": "d3__Pfnjn-NZ",
        "colab_type": "text"
      },
      "source": [
        "Testando 10 instâncias para visualização:"
      ]
    },
    {
      "cell_type": "code",
      "metadata": {
        "scrolled": false,
        "id": "5Kng_jakn-Nb",
        "colab_type": "code",
        "colab": {}
      },
      "source": [
        "test_log = []\n",
        "plt.figure(figsize=[6,6])\n",
        "for i in range(10):\n",
        "    plt.subplot(4,3,i+1)\n",
        "    plt.title(\"Label: %i\"%i)\n",
        "    plt.imshow(X_test[i].reshape([28,28]),cmap='gray');\n",
        "    print(\"Predição:\",predict(network,X_test[i]),\"Resultado esperado:\", y_test[i])\n",
        "    test_log.append(predict(network,X_test[i])==y_test[i])\n",
        "    \n",
        "print('accuracy:',np.mean(test_log))\n",
        "#     print(\"Test accuracy:\",test_log[-1])\n",
        "#     plt.plot(test_log,label='test accuracy')\n",
        "#     plt.grid()\n",
        "#     plt.show()"
      ],
      "execution_count": 0,
      "outputs": []
    },
    {
      "cell_type": "markdown",
      "metadata": {
        "id": "_XLIWFDCK3bD",
        "colab_type": "text"
      },
      "source": [
        "Heatmap mostrando os resultados obtidos. As colunas representam o palpite que a rede deu para aquele valor.\n",
        "Os valores que estão na diagonal principal da matriz são, portanto, os acertos que a rede obteve."
      ]
    },
    {
      "cell_type": "code",
      "metadata": {
        "id": "2bEkTP9mn-Ng",
        "colab_type": "code",
        "colab": {}
      },
      "source": [
        "test_log = []\n",
        "predicts = []\n",
        "for i in range(len(y_test)):\n",
        "    p = predict(network,X_test[i])\n",
        "    r = y_test[i]\n",
        "    predicts.append(p)\n",
        "    test_log.append(p == r)\n",
        "    \n",
        "print('accuracy:',np.mean(test_log))\n",
        "\n",
        "cm = confusion_matrix(predicts, y_test)\n",
        "\n",
        "df_cm = pd.DataFrame(cm, index = [i for i in \"0123456789\"],\n",
        "                  columns = [i for i in \"0123456789\"])\n",
        "plt.figure(figsize = (10,7))\n",
        "sn.heatmap(df_cm, annot=True)"
      ],
      "execution_count": 0,
      "outputs": []
    }
  ]
}